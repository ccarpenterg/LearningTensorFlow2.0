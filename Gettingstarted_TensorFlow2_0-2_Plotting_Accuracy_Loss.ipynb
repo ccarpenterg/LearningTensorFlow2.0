{
  "nbformat": 4,
  "nbformat_minor": 0,
  "metadata": {
    "colab": {
      "name": "Gettingstarted-TensorFlow2.0-Plotting_Accuracy_Loss.ipynb",
      "version": "0.3.2",
      "provenance": [],
      "include_colab_link": true
    },
    "kernelspec": {
      "name": "python3",
      "display_name": "Python 3"
    },
    "accelerator": "GPU"
  },
  "cells": [
    {
      "cell_type": "markdown",
      "metadata": {
        "id": "view-in-github",
        "colab_type": "text"
      },
      "source": [
        "<a href=\"https://colab.research.google.com/github/ccarpenterg/LearningTensorFlow2.0/blob/master/Gettingstarted_TensorFlow2_0-2_Plotting_Accuracy_Loss.ipynb\" target=\"_parent\"><img src=\"https://colab.research.google.com/assets/colab-badge.svg\" alt=\"Open In Colab\"/></a>"
      ]
    },
    {
      "cell_type": "markdown",
      "metadata": {
        "id": "W3Bkv9vJHsYg",
        "colab_type": "text"
      },
      "source": [
        "## Plotting Accuracy and Loss for CNNs with TensorFlow"
      ]
    },
    {
      "cell_type": "markdown",
      "metadata": {
        "id": "TMQbYQxxiG09",
        "colab_type": "text"
      },
      "source": [
        "So now that we have trained a convnet, we will plot the accuracy and loss of our neural network. These plots will be very useful when we start studying the concepts of underfitting and, specially, overfitting."
      ]
    },
    {
      "cell_type": "code",
      "metadata": {
        "id": "RTO1h-GFKXMK",
        "colab_type": "code",
        "colab": {}
      },
      "source": [
        "!pip install tensorflow==2.0.0-alpha0"
      ],
      "execution_count": 0,
      "outputs": []
    },
    {
      "cell_type": "markdown",
      "metadata": {
        "id": "IhZc6WC1ieut",
        "colab_type": "text"
      },
      "source": [
        "After the installation is complete, we import some standard Python libraries, the tensorflow framework and some keras modules. In the end, we check we're using the right tensorflow version, which should be 2.0.0-alpha0:"
      ]
    },
    {
      "cell_type": "code",
      "metadata": {
        "id": "X3mGUhZwKgnw",
        "colab_type": "code",
        "outputId": "e1381ce7-5306-4d82-ad84-583d3c4c7034",
        "colab": {
          "base_uri": "https://localhost:8080/",
          "height": 34
        }
      },
      "source": [
        "#import print function from future\n",
        "from __future__ import absolute_import, division, print_function, unicode_literals\n",
        "\n",
        "import os\n",
        "\n",
        "#import TensorFlow and check version\n",
        "import tensorflow as tf\n",
        "\n",
        "from tensorflow.keras import datasets, layers, models\n",
        "\n",
        "print(tf.__version__)"
      ],
      "execution_count": 0,
      "outputs": [
        {
          "output_type": "stream",
          "text": [
            "2.0.0-alpha0\n"
          ],
          "name": "stdout"
        }
      ]
    },
    {
      "cell_type": "markdown",
      "metadata": {
        "id": "hVXbCSRg37JC",
        "colab_type": "text"
      },
      "source": [
        "**MNIST Dataset**\n",
        "\n",
        "So we'll be using the MNIST dataset again:"
      ]
    },
    {
      "cell_type": "code",
      "metadata": {
        "id": "PfVB3Nbs4Qpm",
        "colab_type": "code",
        "colab": {}
      },
      "source": [
        "mnist = datasets.mnist\n",
        "\n",
        "(x_train, y_train), (x_test, y_test) = mnist.load_data()\n",
        "x_train, x_test = x_train / 255.0, x_test / 255.0"
      ],
      "execution_count": 0,
      "outputs": []
    },
    {
      "cell_type": "code",
      "metadata": {
        "id": "1xJrZRrHlZb2",
        "colab_type": "code",
        "colab": {}
      },
      "source": [
        "x_train = x_train.reshape((60000, 28, 28, 1))\n",
        "x_test = x_test.reshape((10000, 28, 28, 1))\n"
      ],
      "execution_count": 0,
      "outputs": []
    },
    {
      "cell_type": "code",
      "metadata": {
        "id": "IwmPRnQXhS0w",
        "colab_type": "code",
        "colab": {}
      },
      "source": [
        "model = models.Sequential()\n",
        "\n",
        "model.add(layers.Conv2D(32, (3, 3), activation='relu', input_shape=(28, 28, 1)))\n",
        "model.add(layers.MaxPooling2D((2, 2)))\n",
        "model.add(layers.Conv2D(64, (3, 3), activation='relu'))\n",
        "model.add(layers.MaxPooling2D((2, 2)))\n",
        "model.add(layers.Conv2D(64, (3, 3), activation='relu'))\n",
        "\n",
        "model.add(layers.Flatten())\n",
        "model.add(layers.Dense(64, activation='relu'))\n",
        "model.add(layers.Dense(10, activation='softmax'))"
      ],
      "execution_count": 0,
      "outputs": []
    },
    {
      "cell_type": "markdown",
      "metadata": {
        "id": "BeYECv3LYKCl",
        "colab_type": "text"
      },
      "source": [
        "But now we'll be recording the model's history of loss and accuracy through a Python variable called ***history***:"
      ]
    },
    {
      "cell_type": "code",
      "metadata": {
        "id": "L4S-uOip8pNh",
        "colab_type": "code",
        "outputId": "db0efd14-7944-4b4a-a6bc-3c0b35aeca49",
        "colab": {
          "base_uri": "https://localhost:8080/",
          "height": 564
        }
      },
      "source": [
        "model.compile(optimizer='adam',\n",
        "              loss='sparse_categorical_crossentropy',\n",
        "              metrics=['accuracy'])\n",
        "\n",
        "history = model.fit(x_train,\n",
        "                    y_train,\n",
        "                    epochs=15,\n",
        "                    validation_data=(x_test, y_test))"
      ],
      "execution_count": 0,
      "outputs": [
        {
          "output_type": "stream",
          "text": [
            "Train on 60000 samples, validate on 10000 samples\n",
            "Epoch 1/15\n",
            "60000/60000 [==============================] - 48s 807us/sample - loss: 0.1510 - accuracy: 0.9528 - val_loss: 0.0447 - val_accuracy: 0.9857\n",
            "Epoch 2/15\n",
            "60000/60000 [==============================] - 48s 808us/sample - loss: 0.0482 - accuracy: 0.9846 - val_loss: 0.0441 - val_accuracy: 0.9869\n",
            "Epoch 3/15\n",
            "60000/60000 [==============================] - 45s 752us/sample - loss: 0.0353 - accuracy: 0.9891 - val_loss: 0.0326 - val_accuracy: 0.9895\n",
            "Epoch 4/15\n",
            "60000/60000 [==============================] - 48s 794us/sample - loss: 0.0279 - accuracy: 0.9913 - val_loss: 0.0313 - val_accuracy: 0.9898\n",
            "Epoch 5/15\n",
            "60000/60000 [==============================] - 45s 744us/sample - loss: 0.0206 - accuracy: 0.9933 - val_loss: 0.0341 - val_accuracy: 0.9891\n",
            "Epoch 6/15\n",
            "60000/60000 [==============================] - 46s 768us/sample - loss: 0.0166 - accuracy: 0.9947 - val_loss: 0.0315 - val_accuracy: 0.9910\n",
            "Epoch 7/15\n",
            "60000/60000 [==============================] - 45s 752us/sample - loss: 0.0147 - accuracy: 0.9950 - val_loss: 0.0383 - val_accuracy: 0.9887\n",
            "Epoch 8/15\n",
            "60000/60000 [==============================] - 45s 757us/sample - loss: 0.0128 - accuracy: 0.9957 - val_loss: 0.0380 - val_accuracy: 0.9902\n",
            "Epoch 9/15\n",
            "60000/60000 [==============================] - 47s 782us/sample - loss: 0.0102 - accuracy: 0.9967 - val_loss: 0.0331 - val_accuracy: 0.9911\n",
            "Epoch 10/15\n",
            "60000/60000 [==============================] - 43s 719us/sample - loss: 0.0085 - accuracy: 0.9969 - val_loss: 0.0355 - val_accuracy: 0.9915\n",
            "Epoch 11/15\n",
            "60000/60000 [==============================] - 48s 796us/sample - loss: 0.0083 - accuracy: 0.9973 - val_loss: 0.0360 - val_accuracy: 0.9912\n",
            "Epoch 12/15\n",
            "60000/60000 [==============================] - 43s 716us/sample - loss: 0.0074 - accuracy: 0.9977 - val_loss: 0.0401 - val_accuracy: 0.9918\n",
            "Epoch 13/15\n",
            "60000/60000 [==============================] - 44s 733us/sample - loss: 0.0071 - accuracy: 0.9977 - val_loss: 0.0368 - val_accuracy: 0.9918\n",
            "Epoch 14/15\n",
            "60000/60000 [==============================] - 41s 689us/sample - loss: 0.0071 - accuracy: 0.9977 - val_loss: 0.0339 - val_accuracy: 0.9920\n",
            "Epoch 15/15\n",
            "60000/60000 [==============================] - 44s 727us/sample - loss: 0.0055 - accuracy: 0.9980 - val_loss: 0.0392 - val_accuracy: 0.9922\n"
          ],
          "name": "stdout"
        }
      ]
    },
    {
      "cell_type": "markdown",
      "metadata": {
        "id": "IVAD8-HpYra_",
        "colab_type": "text"
      },
      "source": [
        "As you can see the history contains the different metrics for each of the epochs:"
      ]
    },
    {
      "cell_type": "code",
      "metadata": {
        "id": "eXJiYFG_9i_V",
        "colab_type": "code",
        "outputId": "3096ba82-8f9f-46d4-94d5-1656203e365f",
        "colab": {
          "base_uri": "https://localhost:8080/",
          "height": 34
        }
      },
      "source": [
        "history_dict = history.history\n",
        "history_dict.keys()"
      ],
      "execution_count": 0,
      "outputs": [
        {
          "output_type": "execute_result",
          "data": {
            "text/plain": [
              "dict_keys(['loss', 'accuracy', 'val_loss', 'val_accuracy'])"
            ]
          },
          "metadata": {
            "tags": []
          },
          "execution_count": 7
        }
      ]
    },
    {
      "cell_type": "markdown",
      "metadata": {
        "id": "aDmL9jOBh_kV",
        "colab_type": "text"
      },
      "source": [
        "We then access each metric (accuracy, val_accuracy, loss, val_loss), and plot them using pyplot from the matplotlib library:"
      ]
    },
    {
      "cell_type": "code",
      "metadata": {
        "id": "nt-Ed66PBI0a",
        "colab_type": "code",
        "outputId": "a14f6716-c82c-4c38-f62b-9ffb4ba37a0c",
        "colab": {
          "base_uri": "https://localhost:8080/",
          "height": 545
        }
      },
      "source": [
        "import matplotlib.pyplot as plt\n",
        "\n",
        "acc = history_dict['accuracy']\n",
        "val_acc = history_dict['val_accuracy']\n",
        "loss = history_dict['loss']\n",
        "val_loss = history_dict['val_loss']\n",
        "\n",
        "epochs = range(1, len(acc) + 1)\n",
        "\n",
        "plt.plot(epochs, acc, 'bo', label='Training accuracy')\n",
        "plt.plot(epochs, val_acc, 'b',label='Validation accurracy')\n",
        "plt.title('Training and validation accuracy')\n",
        "plt.legend()\n",
        "\n",
        "plt.figure()\n",
        "\n",
        "plt.plot(epochs, loss, 'bo', label='Training loss')\n",
        "plt.plot(epochs, val_loss, 'b', label='Validation loss')\n",
        "plt.title('Training and validation loss')\n",
        "plt.legend()\n",
        "\n",
        "plt.show()\n"
      ],
      "execution_count": 0,
      "outputs": [
        {
          "output_type": "display_data",
          "data": {
            "image/png": "[encoded data removed]",
            "text/plain": [
              "<Figure size 432x288 with 1 Axes>"
            ]
          },
          "metadata": {
            "tags": []
          }
        },
        {
          "output_type": "display_data",
          "data": {
            "image/png": "[encoded data removed]",
            "text/plain": [
              "<Figure size 432x288 with 1 Axes>"
            ]
          },
          "metadata": {
            "tags": []
          }
        }
      ]
    },
    {
      "cell_type": "markdown",
      "metadata": {
        "id": "qmWwQDoUiQer",
        "colab_type": "text"
      },
      "source": [
        "Now you can see that the model is overfitting after the 4th epoch. So stopping the training at that point would've been a good decision."
      ]
    }
  ]
}