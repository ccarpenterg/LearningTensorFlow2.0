{
  "nbformat": 4,
  "nbformat_minor": 0,
  "metadata": {
    "colab": {
      "name": "Gettingstarted-TensorFlow2.0.ipynb",
      "provenance": [],
      "toc_visible": true,
      "include_colab_link": true
    },
    "kernelspec": {
      "name": "python3",
      "display_name": "Python 3"
    },
    "accelerator": "GPU"
  },
  "cells": [
    {
      "cell_type": "markdown",
      "metadata": {
        "id": "view-in-github",
        "colab_type": "text"
      },
      "source": [
        "<a href=\"https://colab.research.google.com/github/ccarpenterg/LearningTensorFlow2.0/blob/master/01_getting_started_with_tensorflow.ipynb\" target=\"_parent\"><img src=\"https://colab.research.google.com/assets/colab-badge.svg\" alt=\"Open In Colab\"/></a>"
      ]
    },
    {
      "cell_type": "markdown",
      "metadata": {
        "id": "W3Bkv9vJHsYg",
        "colab_type": "text"
      },
      "source": [
        "## Getting Started with Tensorflow 2: Training a NN on MNIST\n",
        "\n",
        "This is a small series of notebooks in which I introduce Tensorflow 2, which is the latest release of Google's machine learning framework. If you already know some Python you will be able to play with these examples, and even apply the same models to other datasets.\n",
        "\n",
        "If you're not familiar with Colab take a look at their [introductory notes](https://colab.research.google.com/notebooks/welcome.ipynb).\n",
        "\n",
        "### GPUs in Colab\n",
        "\n",
        "We'll be using the GPU that is provided by Google in Colab, so in order to enable the GPU for this notebook, follow the next steps:\n",
        "\n",
        "* Navigate to **Edit** → **Notebook settings**\n",
        "* Open the **Hard accelerator** drop-down menu and select **GPU**"
      ]
    },
    {
      "cell_type": "markdown",
      "metadata": {
        "id": "Ns17SPcAmTL7",
        "colab_type": "text"
      },
      "source": [
        "## Image classification with Tensorflow\n",
        "\n",
        "Let's start by importing some standard functions, importing tensorflow, checking its version and how many GPUs are available if any:"
      ]
    },
    {
      "cell_type": "code",
      "metadata": {
        "id": "X3mGUhZwKgnw",
        "colab_type": "code",
        "outputId": "2c7b71bc-9395-4c30-fb24-b7fc0687979c",
        "colab": {
          "base_uri": "https://localhost:8080/",
          "height": 51
        }
      },
      "source": [
        "#import print function from future\n",
        "from __future__ import absolute_import, division, print_function, unicode_literals\n",
        "\n",
        "%tensorflow_version 2.x\n",
        "#import TensorFlow and check version\n",
        "import tensorflow as tf\n",
        "\n",
        "import matplotlib.pyplot as plt\n",
        "\n",
        "print(tf.__version__)"
      ],
      "execution_count": 1,
      "outputs": [
        {
          "output_type": "stream",
          "text": [
            "TensorFlow 2.x selected.\n",
            "2.1.0-rc1\n"
          ],
          "name": "stdout"
        }
      ]
    },
    {
      "cell_type": "markdown",
      "metadata": {
        "id": "hVXbCSRg37JC",
        "colab_type": "text"
      },
      "source": [
        "### MNIST Dataset\n",
        "\n",
        "In this notebook we are going to work with the MNIST dataset. Basically it contains images of handwritten digits in grayscale, and its corresponding labels (one, two, three, etc).\n",
        "\n",
        "Downloading and feeding the dataset to the neural network is really simple. The dataset is conveniently included in the keras module:"
      ]
    },
    {
      "cell_type": "code",
      "metadata": {
        "id": "PfVB3Nbs4Qpm",
        "colab_type": "code",
        "colab": {}
      },
      "source": [
        "mnist = tf.keras.datasets.mnist\n",
        "\n",
        "(x_train, y_train), (x_test, y_test) = mnist.load_data()\n",
        "x_train, x_test = x_train / 255.0, x_test / 255.0"
      ],
      "execution_count": 0,
      "outputs": []
    },
    {
      "cell_type": "markdown",
      "metadata": {
        "id": "nhWjZJ4NNapx",
        "colab_type": "text"
      },
      "source": [
        "The image values are normalized by dividing them by 255.0, and therefore these values are cast to float numbers between 0.0 and 1.0."
      ]
    },
    {
      "cell_type": "markdown",
      "metadata": {
        "id": "VpgTI-PGMGRO",
        "colab_type": "text"
      },
      "source": [
        "### Visualizing MNIST\n",
        "\n",
        "We take a look at our MNIST images. MNIST is the \"hello world!\"\" of neural networks, and it's a great dataset for getting started with a library like Tensorflow 2.0:"
      ]
    },
    {
      "cell_type": "code",
      "metadata": {
        "id": "2e011HiiMVtx",
        "colab_type": "code",
        "outputId": "f9888e2e-4b18-4bcc-cbf2-b333d26c5a28",
        "colab": {
          "base_uri": "https://localhost:8080/",
          "height": 279
        }
      },
      "source": [
        "plt.figure(figsize=(10, 5))\n",
        "for i in range(10):\n",
        "    plt.subplot(2, 5, i+1)\n",
        "    plt.xticks([])\n",
        "    plt.yticks([])\n",
        "    plt.grid(False)\n",
        "    plt.imshow(x_train[i], cmap=plt.cm.binary)\n",
        "plt.show()"
      ],
      "execution_count": 3,
      "outputs": [
        {
          "output_type": "display_data",
          "data": {
            "image/png": "[encoded data removed]",
            "text/plain": [
              "<Figure size 720x360 with 10 Axes>"
            ]
          },
          "metadata": {
            "tags": []
          }
        }
      ]
    },
    {
      "cell_type": "markdown",
      "metadata": {
        "id": "xVT35dpIl7_W",
        "colab_type": "text"
      },
      "source": [
        "### Building the Model for the Neural Network\n",
        "\n",
        "So now we are going to train a small neural network. We'll use the MNIST dataset to train our network, and in this case we have a hidden layer of 128 neurons and an output layer of 10 neurons (MNIST: 1, 2, 3, 4, 5, 6, 7, 8, 9, 0 digits).\n",
        "\n",
        "Also, we are using the Flatten layer as the input layer. The MNIST dataset contains 28x28 images, and we use the Flatten layer to turn those matrices into a 784 (28x28) elements array. Now each hidden layer's neuron is connected to all 784 input layer's neurons."
      ]
    },
    {
      "cell_type": "code",
      "metadata": {
        "id": "RdHZBskEpH9L",
        "colab_type": "code",
        "colab": {}
      },
      "source": [
        "model = tf.keras.models.Sequential([\n",
        "    tf.keras.layers.Flatten(input_shape=(28, 28)),\n",
        "    tf.keras.layers.Dense(128, activation='relu'),\n",
        "    tf.keras.layers.Dropout(0.2),\n",
        "    tf.keras.layers.Dense(10, activation='softmax')\n",
        "])"
      ],
      "execution_count": 0,
      "outputs": []
    },
    {
      "cell_type": "code",
      "metadata": {
        "id": "olGBTbcqTuwa",
        "colab_type": "code",
        "outputId": "5efa2ef4-7900-4b99-b347-be02b1267501",
        "colab": {
          "base_uri": "https://localhost:8080/",
          "height": 289
        }
      },
      "source": [
        "model.summary()"
      ],
      "execution_count": 5,
      "outputs": [
        {
          "output_type": "stream",
          "text": [
            "Model: \"sequential\"\n",
            "_________________________________________________________________\n",
            "Layer (type)                 Output Shape              Param #   \n",
            "=================================================================\n",
            "flatten (Flatten)            (None, 784)               0         \n",
            "_________________________________________________________________\n",
            "dense (Dense)                (None, 128)               100480    \n",
            "_________________________________________________________________\n",
            "dropout (Dropout)            (None, 128)               0         \n",
            "_________________________________________________________________\n",
            "dense_1 (Dense)              (None, 10)                1290      \n",
            "=================================================================\n",
            "Total params: 101,770\n",
            "Trainable params: 101,770\n",
            "Non-trainable params: 0\n",
            "_________________________________________________________________\n"
          ],
          "name": "stdout"
        }
      ]
    },
    {
      "cell_type": "markdown",
      "metadata": {
        "id": "s8f-Pwv6yUKR",
        "colab_type": "text"
      },
      "source": [
        "### Dropout Layer\n",
        "\n",
        "One of the main issues faced by ML engineers is overfitting. According to Wikipedia, overfitting is \"the production of an analysis that corresponds too closely or exactly to a particular set of data, and may therefore fail to fit additional data or predict future observations reliably\".\n",
        "\n",
        "The process by which we prevent overfitting is called regularization.There are several methods for regularization; Dropout is a regularization technique that randomly drops out neurons during the training process.\n",
        "\n",
        "In this particular network, we added a Dropout layer between the hidden layer (128 neurons) and the output layer (10 neurons). It has a droput rate of 0.2, which means that each neuron in the hidden layer has a probability of 20% of being dropped out by the network."
      ]
    },
    {
      "cell_type": "markdown",
      "metadata": {
        "id": "IfCsmoODODu6",
        "colab_type": "text"
      },
      "source": [
        "### Training Configuration: Optimizer, Loss and Metrics\n",
        "\n",
        "Now we need to choose the optimizer, the loss function and the metrics we are going to use to train our neural network."
      ]
    },
    {
      "cell_type": "code",
      "metadata": {
        "id": "uKPYSNl8Vew_",
        "colab_type": "code",
        "colab": {}
      },
      "source": [
        "model.compile(optimizer='adam',\n",
        "              loss='sparse_categorical_crossentropy',\n",
        "              metrics=['accuracy'])"
      ],
      "execution_count": 0,
      "outputs": []
    },
    {
      "cell_type": "markdown",
      "metadata": {
        "id": "Os6LbSVTWB2F",
        "colab_type": "text"
      },
      "source": [
        "Then we train and evaluate our model:"
      ]
    },
    {
      "cell_type": "code",
      "metadata": {
        "id": "siOIkFZCWH0_",
        "colab_type": "code",
        "outputId": "763d939f-9d80-40aa-f710-34e7c72674fb",
        "colab": {
          "base_uri": "https://localhost:8080/",
          "height": 238
        }
      },
      "source": [
        "model.fit(x_train, y_train, epochs=5)\n",
        "\n",
        "model.evaluate(x_test, y_test)"
      ],
      "execution_count": 7,
      "outputs": [
        {
          "output_type": "stream",
          "text": [
            "Train on 60000 samples\n",
            "Epoch 1/5\n",
            "60000/60000 [==============================] - 6s 103us/sample - loss: 0.2921 - accuracy: 0.9157\n",
            "Epoch 2/5\n",
            "60000/60000 [==============================] - 4s 71us/sample - loss: 0.1430 - accuracy: 0.9573\n",
            "Epoch 3/5\n",
            "60000/60000 [==============================] - 4s 73us/sample - loss: 0.1067 - accuracy: 0.9678\n",
            "Epoch 4/5\n",
            "60000/60000 [==============================] - 4s 71us/sample - loss: 0.0894 - accuracy: 0.9721\n",
            "Epoch 5/5\n",
            "60000/60000 [==============================] - 4s 69us/sample - loss: 0.0757 - accuracy: 0.9759\n",
            "10000/10000 [==============================] - 1s 65us/sample - loss: 0.0790 - accuracy: 0.9764\n"
          ],
          "name": "stdout"
        },
        {
          "output_type": "execute_result",
          "data": {
            "text/plain": [
              "[0.07895432091394905, 0.9764]"
            ]
          },
          "metadata": {
            "tags": []
          },
          "execution_count": 7
        }
      ]
    },
    {
      "cell_type": "markdown",
      "metadata": {
        "id": "-bEiw4OmZBNT",
        "colab_type": "text"
      },
      "source": [
        "### Results\n",
        "\n",
        "That's around 97% accuracy on the MNIST for both the training and test dataset. That's really outstanding for a NN with 3 layers (input, hidden and output). The droput is definitely an effective regularization technique."
      ]
    }
  ]
}