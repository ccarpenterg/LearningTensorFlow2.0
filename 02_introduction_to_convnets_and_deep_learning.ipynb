{
  "nbformat": 4,
  "nbformat_minor": 0,
  "metadata": {
    "colab": {
      "name": "Gettingstarted-TensorFlow2.0-Intro-CNN.ipynb",
      "version": "0.3.2",
      "provenance": [],
      "include_colab_link": true
    },
    "kernelspec": {
      "name": "python3",
      "display_name": "Python 3"
    },
    "accelerator": "GPU"
  },
  "cells": [
    {
      "cell_type": "markdown",
      "metadata": {
        "id": "view-in-github",
        "colab_type": "text"
      },
      "source": [
        "<a href=\"https://colab.research.google.com/github/ccarpenterg/LearningTensorFlow2.0/blob/master/02_introduction_to_convnets_and_deep_learning.ipynb\" target=\"_parent\"><img src=\"https://colab.research.google.com/assets/colab-badge.svg\" alt=\"Open In Colab\"/></a>"
      ]
    },
    {
      "cell_type": "markdown",
      "metadata": {
        "id": "W3Bkv9vJHsYg",
        "colab_type": "text"
      },
      "source": [
        "## Introduction to Convolutional Neural Networks with TensorFlow"
      ]
    },
    {
      "cell_type": "markdown",
      "metadata": {
        "id": "TMQbYQxxiG09",
        "colab_type": "text"
      },
      "source": [
        "Convolutional neural networks (CNNs or convnets for short) are one of most exciting new developments in the field of computer vision. A key feature of CNNs is that feature extraction is carried out by the convolutional layers, and there is no need for feature engineering.\n",
        "\n",
        "Let's start by installing tensorflow 2.0:"
      ]
    },
    {
      "cell_type": "code",
      "metadata": {
        "id": "RTO1h-GFKXMK",
        "colab_type": "code",
        "colab": {}
      },
      "source": [
        "!pip install tensorflow==2.0.0-alpha0"
      ],
      "execution_count": 0,
      "outputs": []
    },
    {
      "cell_type": "markdown",
      "metadata": {
        "id": "IhZc6WC1ieut",
        "colab_type": "text"
      },
      "source": [
        "After the installation is complete, we import some standard Python libraries, the tensorflow framework and some keras modules. In the end, we check we're using the right tensorflow version, which should be 2.0.0-alpha0:"
      ]
    },
    {
      "cell_type": "code",
      "metadata": {
        "id": "X3mGUhZwKgnw",
        "colab_type": "code",
        "outputId": "ae70a103-81c3-41c6-a1f2-f4240f5782f6",
        "colab": {
          "base_uri": "https://localhost:8080/",
          "height": 34
        }
      },
      "source": [
        "#import print function from future\n",
        "from __future__ import absolute_import, division, print_function, unicode_literals\n",
        "\n",
        "import os\n",
        "\n",
        "#import TensorFlow and check version\n",
        "import tensorflow as tf\n",
        "\n",
        "from tensorflow.keras import datasets, layers, models\n",
        "\n",
        "print(tf.__version__)"
      ],
      "execution_count": 0,
      "outputs": [
        {
          "output_type": "stream",
          "text": [
            "2.0.0-alpha0\n"
          ],
          "name": "stdout"
        }
      ]
    },
    {
      "cell_type": "markdown",
      "metadata": {
        "id": "hVXbCSRg37JC",
        "colab_type": "text"
      },
      "source": [
        "**MNIST Dataset**\n",
        "\n",
        "For this introduction to convolutional neural networks with Tensorflow 2.0, we'll be using the MNIST dataset. First we download the dataset and then normalize it:"
      ]
    },
    {
      "cell_type": "code",
      "metadata": {
        "id": "PfVB3Nbs4Qpm",
        "colab_type": "code",
        "outputId": "5efd80bd-f99e-4800-c0f4-14cba325fd56",
        "colab": {
          "base_uri": "https://localhost:8080/",
          "height": 51
        }
      },
      "source": [
        "mnist = datasets.mnist\n",
        "\n",
        "(x_train, y_train), (x_test, y_test) = mnist.load_data()\n",
        "print(x_train.shape)\n",
        "print(x_test.shape)x_train, x_test = x_train / 255.0, x_test / 255.0"
      ],
      "execution_count": 0,
      "outputs": [
        {
          "output_type": "stream",
          "text": [
            "Downloading data from https://storage.googleapis.com/tensorflow/tf-keras-datasets/mnist.npz\n",
            "11493376/11490434 [==============================] - 0s 0us/step\n"
          ],
          "name": "stdout"
        }
      ]
    },
    {
      "cell_type": "markdown",
      "metadata": {
        "id": "Qqg5EnCqC6sN",
        "colab_type": "text"
      },
      "source": [
        "Since hhe MNIST images have only one channel, we need to explicitly reshape them to include a fourth dimension (that one channel):"
      ]
    },
    {
      "cell_type": "code",
      "metadata": {
        "id": "1xJrZRrHlZb2",
        "colab_type": "code",
        "outputId": "593cf3ce-d3dc-4191-943d-427300a73882",
        "colab": {
          "base_uri": "https://localhost:8080/",
          "height": 85
        }
      },
      "source": [
        "print(x_train.shape)\n",
        "print(x_test.shape)\n",
        "\n",
        "x_train = x_train.reshape((60000, 28, 28, 1))\n",
        "x_test = x_test.reshape((10000, 28, 28, 1))\n",
        "\n",
        "print(x_train.shape)\n",
        "print(x_test.shape)"
      ],
      "execution_count": 0,
      "outputs": [
        {
          "output_type": "stream",
          "text": [
            "(60000, 28, 28)\n",
            "(10000, 28, 28)\n",
            "(60000, 28, 28, 1)\n",
            "(10000, 28, 28, 1)\n"
          ],
          "name": "stdout"
        }
      ]
    },
    {
      "cell_type": "markdown",
      "metadata": {
        "id": "-BpXzl8jK8lZ",
        "colab_type": "text"
      },
      "source": [
        "We begin with 3 convolutional layers. The first one has 32 filters of 3x3 pixels, takes our MNIST images as input (28, 28, 1) and applies RELU as the activation function. The output of this operations are 32 feature maps, over which we then apply max-pooling of 2x2 pixels. The same operations are repeated in a similar way for the other convolutional layers."
      ]
    },
    {
      "cell_type": "code",
      "metadata": {
        "id": "IwmPRnQXhS0w",
        "colab_type": "code",
        "colab": {}
      },
      "source": [
        "model = models.Sequential()\n",
        "model.add(layers.Conv2D(32, (3, 3), activation='relu', input_shape=(28, 28, 1)))\n",
        "model.add(layers.MaxPooling2D((2, 2)))\n",
        "model.add(layers.Conv2D(64, (3, 3), activation='relu'))\n",
        "model.add(layers.MaxPooling2D((2, 2)))\n",
        "model.add(layers.Conv2D(64, (3, 3), activation='relu'))"
      ],
      "execution_count": 0,
      "outputs": []
    },
    {
      "cell_type": "markdown",
      "metadata": {
        "id": "iGmy_N3nlWFK",
        "colab_type": "text"
      },
      "source": [
        "Now we can get a summary of this convolutional neural network. Our model includes the method summary, which will show us the tensor shape for each layer and how many parameters will be calculated:"
      ]
    },
    {
      "cell_type": "code",
      "metadata": {
        "id": "M_HuGtEOkjhN",
        "colab_type": "code",
        "outputId": "daf1c35c-c88c-40a7-aef6-a3191b05a9da",
        "colab": {
          "base_uri": "https://localhost:8080/",
          "height": 323
        }
      },
      "source": [
        "model.summary()"
      ],
      "execution_count": 0,
      "outputs": [
        {
          "output_type": "stream",
          "text": [
            "Model: \"sequential\"\n",
            "_________________________________________________________________\n",
            "Layer (type)                 Output Shape              Param #   \n",
            "=================================================================\n",
            "conv2d (Conv2D)              (None, 26, 26, 32)        320       \n",
            "_________________________________________________________________\n",
            "max_pooling2d (MaxPooling2D) (None, 13, 13, 32)        0         \n",
            "_________________________________________________________________\n",
            "conv2d_1 (Conv2D)            (None, 11, 11, 64)        18496     \n",
            "_________________________________________________________________\n",
            "max_pooling2d_1 (MaxPooling2 (None, 5, 5, 64)          0         \n",
            "_________________________________________________________________\n",
            "conv2d_2 (Conv2D)            (None, 3, 3, 64)          36928     \n",
            "=================================================================\n",
            "Total params: 55,744\n",
            "Trainable params: 55,744\n",
            "Non-trainable params: 0\n",
            "_________________________________________________________________\n"
          ],
          "name": "stdout"
        }
      ]
    },
    {
      "cell_type": "markdown",
      "metadata": {
        "id": "Enurh7lRmTE2",
        "colab_type": "text"
      },
      "source": [
        "### Neural Network Bookkeeping: Parameters\n",
        "\n",
        "Now let's find out how the TensorFlow calculated the parameters for each convolutional layer. \n",
        "\n",
        "***1st convolutional layer***\n",
        "\n",
        "In the first convolutional layer we have 32 kernels or filters of 3x3. \n",
        "Each filter has 9 (3x3) parameters and that gives us a total of 288 parameters: 32 x 9.\n",
        "But at the same time, each one of these filters has a bias: 32 x 1\n",
        "\n",
        "32 x 9 weights + 32 x 1 biases = 320 parameters\n",
        "\n",
        "***2nd convolutional layer***\n",
        "\n",
        "After applying the first pooling we end up with 32 feature maps, and that's the input for our second convolutional layer. In the second layer we use 64 filters of 3x3, but now we apply these 64 filter to each of the 32 feature maps.\n",
        "\n",
        "Each filter has 9 (3x3) parameters and that gives us a total of 576 parameters: 64 x 9. And each one of the filters has a bias: 64  x 1\n",
        "\n",
        "32 x (64 x 9 weights) + 64 x 1 biases = 18496 parameters.\n",
        "\n",
        "***3rd convolutional layer***\n",
        "\n",
        "After applying the second polling we end up with 64 feature maps. In the third layer we also use 64 filters of 3x3, and we apply these filters to the 64 feature maps.\n",
        "\n",
        "Each filter has 9 (3x3) parameters and that gives us a total of 576 parameters: 64 x 9. And each one of the filters has a bias: 64  x 1\n",
        "\n",
        "64 x (64 x 9 weights) + 64 x 1 biases = 36928 parameters."
      ]
    },
    {
      "cell_type": "markdown",
      "metadata": {
        "id": "keMN15EK-Y5W",
        "colab_type": "text"
      },
      "source": [
        "### Dense Classifier\n",
        "\n",
        "We now add a dense layer and final layer with 10 neurons, one for each of the digit classes (one, two, three, etc). Because of the way in which dense layers work we need to convert the 3D tensor into a vector, and for that task we use a Flatten layer."
      ]
    },
    {
      "cell_type": "code",
      "metadata": {
        "id": "oXta0j02_n38",
        "colab_type": "code",
        "outputId": "97df578d-21a5-4b09-9f02-de40a682a588",
        "colab": {
          "base_uri": "https://localhost:8080/",
          "height": 425
        }
      },
      "source": [
        "model.add(layers.Flatten())\n",
        "model.add(layers.Dense(64, activation='relu'))\n",
        "model.add(layers.Dense(10, activation='softmax'))\n",
        "\n",
        "#Let's check our neural network architecture again\n",
        "model.summary()"
      ],
      "execution_count": 0,
      "outputs": [
        {
          "output_type": "stream",
          "text": [
            "Model: \"sequential\"\n",
            "_________________________________________________________________\n",
            "Layer (type)                 Output Shape              Param #   \n",
            "=================================================================\n",
            "conv2d (Conv2D)              (None, 26, 26, 32)        320       \n",
            "_________________________________________________________________\n",
            "max_pooling2d (MaxPooling2D) (None, 13, 13, 32)        0         \n",
            "_________________________________________________________________\n",
            "conv2d_1 (Conv2D)            (None, 11, 11, 64)        18496     \n",
            "_________________________________________________________________\n",
            "max_pooling2d_1 (MaxPooling2 (None, 5, 5, 64)          0         \n",
            "_________________________________________________________________\n",
            "conv2d_2 (Conv2D)            (None, 3, 3, 64)          36928     \n",
            "_________________________________________________________________\n",
            "flatten (Flatten)            (None, 576)               0         \n",
            "_________________________________________________________________\n",
            "dense (Dense)                (None, 64)                36928     \n",
            "_________________________________________________________________\n",
            "dense_1 (Dense)              (None, 10)                650       \n",
            "=================================================================\n",
            "Total params: 93,322\n",
            "Trainable params: 93,322\n",
            "Non-trainable params: 0\n",
            "_________________________________________________________________\n"
          ],
          "name": "stdout"
        }
      ]
    },
    {
      "cell_type": "markdown",
      "metadata": {
        "id": "_Kqz8lHHzZ42",
        "colab_type": "text"
      },
      "source": [
        "Now let's do the math for the rest of the neural network. First we have to stretch out the output tensor of our 3rd convolution layer:\n",
        "\n",
        "tensor dimensions = (3, 3, 64) --> 3 x 3 x 64 = 576 elements vector\n",
        "\n",
        "That's the input layer dimension of the second part of our neural network. So now we have a vector of length 576, a hidden dense layer composed of 64 neurons and an output layer of 10 neurons.\n",
        "\n",
        "Each of the dense layer's neurons are connected to all the neurons in the input layer. And each of the 64 neurones has a bias:\n",
        "\n",
        "64 x 576 weights + 64 x 1 bias = 36928 parameters\n",
        "\n",
        "And finally, for our output layer we have:\n",
        "\n",
        "10 * 64 weights + 10 biases = 650 parameters"
      ]
    },
    {
      "cell_type": "markdown",
      "metadata": {
        "id": "0-CTazngQ20E",
        "colab_type": "text"
      },
      "source": [
        "### Neurons and Tensor Dimensions\n",
        "\n",
        "Now let's a look at each layers' neurons and how the input tensor is transformed as it goes through the neural network.\n",
        "\n",
        "Our MNIST dataset contains grayscale images of 28x28, this means that it contains only one channel. Therefore input tensor dimensions are:\n",
        "\n",
        "(28, 28, 1) = 784 input neurons\n",
        "\n",
        "In the case of the convolution layers, the neurons live in the feature maps. For the first convolutional layer we have 32 feature maps (given by the numbers of filters), and we use a formula to calculate the width and height for a particular feature map:\n",
        "\n",
        "w = (w - f + 2p) / s + 1 --> width: (28 - 3 + 2x0) / 1 + 1 = 26\n",
        "\n",
        "h = (h - f + 2p) / s + 1 --> height: (28 - 3 + 2x0) / 1 + 1 = 26\n",
        "\n",
        "f is the size of the filter; p is the padding; s is the stride.\n",
        "\n",
        "(26, 26, 32) = 21632 neurons. That's a lot, but after applying max pooling, which outputs the maximum activation given a max pooling of 2 x 2, we end up with:\n",
        "\n",
        "(13, 13, 32) = 5408 neurons.\n",
        "\n",
        "This convolution process continues until we reach the last convolution layer and we end up with:\n",
        "\n",
        "(3, 3, 64) = 576 neurons and we are ready to add our dense layers.\n",
        "\n"
      ]
    },
    {
      "cell_type": "markdown",
      "metadata": {
        "id": "l_FMIRZQe4XD",
        "colab_type": "text"
      },
      "source": [
        "### Saving the model's weights and biases for later\n",
        "\n",
        "Before training the model we're going to create a checkpoint and save our model's parameters, so the next time we want to explore the results we just load our parameters and recreate our model without traning it again."
      ]
    },
    {
      "cell_type": "code",
      "metadata": {
        "id": "tRlZ7ECAcrnn",
        "colab_type": "code",
        "colab": {}
      },
      "source": [
        "checkpoint_path = \"training_1/cp.ckpt\"\n",
        "checkpoint_dir = os.path.dirname(checkpoint_path)\n",
        "\n",
        "cp_callback = tf.keras.callbacks.ModelCheckpoint(checkpoint_path,\n",
        "                                                 save_weights_only=True,\n",
        "                                                 verbose=1)"
      ],
      "execution_count": 0,
      "outputs": []
    },
    {
      "cell_type": "markdown",
      "metadata": {
        "id": "KQ1SZzgXmMXB",
        "colab_type": "text"
      },
      "source": [
        "### Compile and train the model"
      ]
    },
    {
      "cell_type": "code",
      "metadata": {
        "id": "-fJH52grmXNh",
        "colab_type": "code",
        "outputId": "e9a11a3f-1687-4db9-e462-9848819dc0b8",
        "colab": {
          "base_uri": "https://localhost:8080/",
          "height": 374
        }
      },
      "source": [
        "model.compile(optimizer='adam',\n",
        "              loss='sparse_categorical_crossentropy',\n",
        "              metrics=['accuracy'])\n",
        "\n",
        "model.fit(x_train, y_train, epochs=5, callbacks=[cp_callback])"
      ],
      "execution_count": 0,
      "outputs": [
        {
          "output_type": "stream",
          "text": [
            "Epoch 1/5\n",
            "59904/60000 [============================>.] - ETA: 0s - loss: 0.1492 - accuracy: 0.9537\n",
            "Epoch 00001: saving model to training_1/cp.ckpt\n",
            "60000/60000 [==============================] - 44s 741us/sample - loss: 0.1490 - accuracy: 0.9538\n",
            "Epoch 2/5\n",
            "59936/60000 [============================>.] - ETA: 0s - loss: 0.0491 - accuracy: 0.9850\n",
            "Epoch 00002: saving model to training_1/cp.ckpt\n",
            "60000/60000 [==============================] - 42s 692us/sample - loss: 0.0493 - accuracy: 0.9850\n",
            "Epoch 3/5\n",
            "59904/60000 [============================>.] - ETA: 0s - loss: 0.0340 - accuracy: 0.9891\n",
            "Epoch 00003: saving model to training_1/cp.ckpt\n",
            "60000/60000 [==============================] - 43s 718us/sample - loss: 0.0340 - accuracy: 0.9890\n",
            "Epoch 4/5\n",
            "59968/60000 [============================>.] - ETA: 0s - loss: 0.0273 - accuracy: 0.9912\n",
            "Epoch 00004: saving model to training_1/cp.ckpt\n",
            "60000/60000 [==============================] - 40s 675us/sample - loss: 0.0273 - accuracy: 0.9912\n",
            "Epoch 5/5\n",
            "59904/60000 [============================>.] - ETA: 0s - loss: 0.0205 - accuracy: 0.9935\n",
            "Epoch 00005: saving model to training_1/cp.ckpt\n",
            "60000/60000 [==============================] - 42s 697us/sample - loss: 0.0205 - accuracy: 0.9936\n"
          ],
          "name": "stdout"
        },
        {
          "output_type": "execute_result",
          "data": {
            "text/plain": [
              "<tensorflow.python.keras.callbacks.History at 0x7ff2875226a0>"
            ]
          },
          "metadata": {
            "tags": []
          },
          "execution_count": 14
        }
      ]
    },
    {
      "cell_type": "markdown",
      "metadata": {
        "id": "_WaVrNtn9LC7",
        "colab_type": "text"
      },
      "source": [
        "### Evaluating accuracy\n",
        "\n",
        "So far we have measured the accuracy for our training set, so now we determine the accuracy for our test set (the unseen data):"
      ]
    },
    {
      "cell_type": "code",
      "metadata": {
        "id": "qCv_tyjb9mAj",
        "colab_type": "code",
        "outputId": "38c73add-5465-4689-9b6a-293936fcbf1b",
        "colab": {
          "base_uri": "https://localhost:8080/",
          "height": 34
        }
      },
      "source": [
        "test_loss, test_acc = model.evaluate(x_test, y_test)"
      ],
      "execution_count": 0,
      "outputs": [
        {
          "output_type": "stream",
          "text": [
            "10000/10000 [==============================] - 3s 282us/sample - loss: 0.0372 - accuracy: 0.9881\n"
          ],
          "name": "stdout"
        }
      ]
    }
  ]
}
