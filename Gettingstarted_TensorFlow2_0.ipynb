{
  "nbformat": 4,
  "nbformat_minor": 0,
  "metadata": {
    "colab": {
      "name": "Gettingstarted-TensorFlow2.0.ipynb",
      "version": "0.3.2",
      "provenance": [],
      "include_colab_link": true
    },
    "kernelspec": {
      "name": "python3",
      "display_name": "Python 3"
    }
  },
  "cells": [
    {
      "cell_type": "markdown",
      "metadata": {
        "id": "view-in-github",
        "colab_type": "text"
      },
      "source": [
        "<a href=\"https://colab.research.google.com/github/ccarpenterg/LearningTensorFlow2.0/blob/master/Gettingstarted_TensorFlow2_0.ipynb\" target=\"_parent\"><img src=\"https://colab.research.google.com/assets/colab-badge.svg\" alt=\"Open In Colab\"/></a>"
      ]
    },
    {
      "metadata": {
        "id": "W3Bkv9vJHsYg",
        "colab_type": "text"
      },
      "cell_type": "markdown",
      "source": [
        "### Getting Started in TensorFlow 2.0 (Alpha)"
      ]
    },
    {
      "metadata": {
        "id": "RTO1h-GFKXMK",
        "colab_type": "code",
        "colab": {}
      },
      "cell_type": "code",
      "source": [
        "!pip install tensorflow==2.0.0-alpha0"
      ],
      "execution_count": 0,
      "outputs": []
    },
    {
      "metadata": {
        "id": "X3mGUhZwKgnw",
        "colab_type": "code",
        "colab": {}
      },
      "cell_type": "code",
      "source": [
        "#import print function from future\n",
        "from __future__ import print_function\n",
        "\n",
        "#import TensorFlow and check version\n",
        "import tensorflow as tf\n",
        "\n",
        "print(tf.__version__)"
      ],
      "execution_count": 0,
      "outputs": []
    },
    {
      "metadata": {
        "id": "xVT35dpIl7_W",
        "colab_type": "text"
      },
      "cell_type": "markdown",
      "source": [
        "So now we are going to train a small neural network. We'll use the MNIST dataset to train our network, and in this case we have a hidden layer of 128 neurons and an output layer of 10 neurons (MNIST: 1, 2, 3, 4, 5, 6, 7, 8, 9, 0 digits).\n",
        "\n",
        "Also, we are using Keras layer Flatten as the input layer. The MNIST dataset contains 28x28 images, we use the Flatten layer those matrices into 784 (28x28) arrays. Now each hidden layer neuron is connected to all 784 input layer's neurons."
      ]
    },
    {
      "metadata": {
        "id": "RdHZBskEpH9L",
        "colab_type": "code",
        "colab": {}
      },
      "cell_type": "code",
      "source": [
        "model = tf.keras.models.Sequential([\n",
        "    tf.keras.layers.Flatten(input_shape=(28, 28)),\n",
        "    tf.keras.layers.Dense(128, activation='relu'),\n",
        "    tf.keras.layers.Droput(0.2),\n",
        "    tf.keras.layers.Dense(10, activation='softmax')\n",
        "])"
      ],
      "execution_count": 0,
      "outputs": []
    }
  ]
}