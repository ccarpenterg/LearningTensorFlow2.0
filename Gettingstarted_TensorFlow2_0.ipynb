{
  "nbformat": 4,
  "nbformat_minor": 0,
  "metadata": {
    "colab": {
      "name": "Gettingstarted-TensorFlow2.0.ipynb",
      "version": "0.3.2",
      "provenance": [],
      "include_colab_link": true
    },
    "kernelspec": {
      "name": "python3",
      "display_name": "Python 3"
    }
  },
  "cells": [
    {
      "cell_type": "markdown",
      "metadata": {
        "id": "view-in-github",
        "colab_type": "text"
      },
      "source": [
        "<a href=\"https://colab.research.google.com/github/ccarpenterg/LearningTensorFlow2.0/blob/master/Gettingstarted_TensorFlow2_0.ipynb\" target=\"_parent\"><img src=\"https://colab.research.google.com/assets/colab-badge.svg\" alt=\"Open In Colab\"/></a>"
      ]
    },
    {
      "metadata": {
        "id": "W3Bkv9vJHsYg",
        "colab_type": "text"
      },
      "cell_type": "markdown",
      "source": [
        "### Getting Started in TensorFlow 2.0 (Alpha)"
      ]
    },
    {
      "metadata": {
        "id": "RTO1h-GFKXMK",
        "colab_type": "code",
        "colab": {}
      },
      "cell_type": "code",
      "source": [
        "!pip install tensorflow==2.0.0-alpha0"
      ],
      "execution_count": 0,
      "outputs": []
    },
    {
      "metadata": {
        "id": "X3mGUhZwKgnw",
        "colab_type": "code",
        "colab": {}
      },
      "cell_type": "code",
      "source": [
        "#import print function from future\n",
        "from __future__ import absolute_import, division, print_function, unicode_literals\n",
        "\n",
        "#import TensorFlow and check version\n",
        "import tensorflow as tf\n",
        "\n",
        "print(tf.__version__)"
      ],
      "execution_count": 0,
      "outputs": []
    },
    {
      "metadata": {
        "id": "hVXbCSRg37JC",
        "colab_type": "text"
      },
      "cell_type": "markdown",
      "source": [
        "**MNIST Dataset**\n",
        "\n",
        "Downloading and feeding the dataset to the neural network is too simple. The dataset is conveniently included in the ketas module:"
      ]
    },
    {
      "metadata": {
        "id": "PfVB3Nbs4Qpm",
        "colab_type": "code",
        "colab": {}
      },
      "cell_type": "code",
      "source": [
        "minist = tf.keras.datasets.mnist\n",
        "\n",
        "(x_train, y_train), (x_test, y_test) = mnist.load_data()\n",
        "x_train, x_test = x_train / 255.0, x_test / 255.0"
      ],
      "execution_count": 0,
      "outputs": []
    },
    {
      "metadata": {
        "id": "nhWjZJ4NNapx",
        "colab_type": "text"
      },
      "cell_type": "markdown",
      "source": [
        "The image values are normalized by dividing them by 255.0, and therefore these values are cast to float numbers between 0.0 and 1.0."
      ]
    },
    {
      "metadata": {
        "id": "xVT35dpIl7_W",
        "colab_type": "text"
      },
      "cell_type": "markdown",
      "source": [
        "**Building the Model for the Neural Network**\n",
        "\n",
        "So now we are going to train a small neural network. We'll use the MNIST dataset to train our network, and in this case we have a hidden layer of 128 neurons and an output layer of 10 neurons (MNIST: 1, 2, 3, 4, 5, 6, 7, 8, 9, 0 digits).\n",
        "\n",
        "Also, we are using Keras Flatten layer as the input layer. The MNIST dataset contains 28x28 images, we use the Flatten layer to turn those matrices into 784 (28x28) arrays. Now each hidden layer's neuron is connected to all 784 input layer's neurons."
      ]
    },
    {
      "metadata": {
        "id": "RdHZBskEpH9L",
        "colab_type": "code",
        "colab": {}
      },
      "cell_type": "code",
      "source": [
        "model = tf.keras.models.Sequential([\n",
        "    tf.keras.layers.Flatten(input_shape=(28, 28)),\n",
        "    tf.keras.layers.Dense(128, activation='relu'),\n",
        "    tf.keras.layers.Droput(0.2),\n",
        "    tf.keras.layers.Dense(10, activation='softmax')\n",
        "])"
      ],
      "execution_count": 0,
      "outputs": []
    },
    {
      "metadata": {
        "id": "s8f-Pwv6yUKR",
        "colab_type": "text"
      },
      "cell_type": "markdown",
      "source": [
        "**Dropout Layer**\n",
        "\n",
        "One of the main issues faced by ML engineers is overfitting. According to Wikipedia, overfitting is \"the production of an analysis that corresponds too closely or exactly to a particular set of data, and may therefore fail to fit additional data or predict future observations reliably\".\n",
        "\n",
        "The process by which we prevent overfitting is called regularization.There are several methods for regularization; Dropout is a regularization technique that randomly drops out neurons during the training process.\n",
        "\n",
        "In this particular network, we added a Dropout layer between the hidden layer (128 neurons) and the output layer (10 neurons). It has a droput rate of 0.2, which means that each neuron in the hidden layer has a probability of 20% of being dropped out by the network."
      ]
    },
    {
      "metadata": {
        "id": "IfCsmoODODu6",
        "colab_type": "text"
      },
      "cell_type": "markdown",
      "source": [
        "**Training Configuration: Optimizer, Loss and Metrics**\n",
        "\n",
        "Now we need to choose the optimizer, the loss function and the metrics we are going to use to train our neural network."
      ]
    },
    {
      "metadata": {
        "id": "uKPYSNl8Vew_",
        "colab_type": "code",
        "colab": {}
      },
      "cell_type": "code",
      "source": [
        "model.compile(optimizer='adam',\n",
        "              loss='sparse_categorical_crossentropy',\n",
        "              metrics=['accuracy'])"
      ],
      "execution_count": 0,
      "outputs": []
    },
    {
      "metadata": {
        "id": "Os6LbSVTWB2F",
        "colab_type": "text"
      },
      "cell_type": "markdown",
      "source": [
        "Then we train and evaluate our model:"
      ]
    },
    {
      "metadata": {
        "id": "siOIkFZCWH0_",
        "colab_type": "code",
        "colab": {}
      },
      "cell_type": "code",
      "source": [
        "model.fit(x_train, y_train, epochs=5)\n",
        "\n",
        "model.evalute(x_test, y_test)"
      ],
      "execution_count": 0,
      "outputs": []
    }
  ]
}