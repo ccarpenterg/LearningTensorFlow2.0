{
  "nbformat": 4,
  "nbformat_minor": 0,
  "metadata": {
    "colab": {
      "name": "Gettingstarted_TensorFlow2_0_CIFAR-10.ipynb",
      "version": "0.3.2",
      "provenance": [],
      "include_colab_link": true
    },
    "kernelspec": {
      "name": "python3",
      "display_name": "Python 3"
    },
    "accelerator": "GPU"
  },
  "cells": [
    {
      "cell_type": "markdown",
      "metadata": {
        "id": "view-in-github",
        "colab_type": "text"
      },
      "source": [
        "<a href=\"https://colab.research.google.com/github/ccarpenterg/LearningTensorFlow2.0/blob/master/Gettingstarted_TensorFlow2_0_CIFAR_10.ipynb\" target=\"_parent\"><img src=\"https://colab.research.google.com/assets/colab-badge.svg\" alt=\"Open In Colab\"/></a>"
      ]
    },
    {
      "cell_type": "markdown",
      "metadata": {
        "id": "8Z2_hpNZK9YC",
        "colab_type": "text"
      },
      "source": [
        "## CIFAR-10: A More Challenging Dataset for CNNs\n",
        "\n"
      ]
    },
    {
      "cell_type": "code",
      "metadata": {
        "id": "69ebceTOMrnx",
        "colab_type": "code",
        "colab": {}
      },
      "source": [
        "!pip install tensorflow==2.0.0-alpha0"
      ],
      "execution_count": 0,
      "outputs": []
    },
    {
      "cell_type": "code",
      "metadata": {
        "id": "lcgNcpggMwuO",
        "colab_type": "code",
        "colab": {
          "base_uri": "https://localhost:8080/",
          "height": 34
        },
        "outputId": "2efcae28-fcf7-4a5c-8963-3b5aa5478f19"
      },
      "source": [
        "from __future__ import absolute_import, division, print_function, unicode_literals\n",
        "\n",
        "import tensorflow as tf\n",
        "\n",
        "from tensorflow.keras import datasets, layers, models\n",
        "\n",
        "print(tf.__version__)"
      ],
      "execution_count": 2,
      "outputs": [
        {
          "output_type": "stream",
          "text": [
            "2.0.0-alpha0\n"
          ],
          "name": "stdout"
        }
      ]
    },
    {
      "cell_type": "code",
      "metadata": {
        "id": "RZ_zicIyPF5M",
        "colab_type": "code",
        "colab": {}
      },
      "source": [
        "cifar10 = datasets.cifar10\n",
        "\n",
        "(cifar10x_train, cifar10y_train), (cifar10x_test, cifar10y_test) = cifar10.load_data()"
      ],
      "execution_count": 0,
      "outputs": []
    },
    {
      "cell_type": "code",
      "metadata": {
        "id": "G1SSf5JoP659",
        "colab_type": "code",
        "colab": {
          "base_uri": "https://localhost:8080/",
          "height": 51
        },
        "outputId": "7575af0e-670e-42bc-aee6-708e10e3acc9"
      },
      "source": [
        "print(cifar10x_train.shape)\n",
        "print(cifar10y_train.shape)"
      ],
      "execution_count": 5,
      "outputs": [
        {
          "output_type": "stream",
          "text": [
            "(50000, 32, 32, 3)\n",
            "(50000, 1)\n"
          ],
          "name": "stdout"
        }
      ]
    },
    {
      "cell_type": "code",
      "metadata": {
        "id": "BaJqJTOIQWFD",
        "colab_type": "code",
        "colab": {
          "base_uri": "https://localhost:8080/",
          "height": 51
        },
        "outputId": "26827376-ed53-4a1f-d4bd-c1af56e1af7d"
      },
      "source": [
        "print(cifar10x_test.shape)\n",
        "print(cifar10y_test.shape)"
      ],
      "execution_count": 6,
      "outputs": [
        {
          "output_type": "stream",
          "text": [
            "(10000, 32, 32, 3)\n",
            "(10000, 1)\n"
          ],
          "name": "stdout"
        }
      ]
    },
    {
      "cell_type": "code",
      "metadata": {
        "id": "8mQl-tsLSFNu",
        "colab_type": "code",
        "colab": {
          "base_uri": "https://localhost:8080/",
          "height": 425
        },
        "outputId": "73575291-ceff-461b-d187-7dd15961f3dd"
      },
      "source": [
        "model = models.Sequential()\n",
        "\n",
        "model.add(layers.Conv2D(32, (3, 3), activation='relu', input_shape=(32, 32, 3)))\n",
        "model.add(layers.MaxPooling2D((2, 2)))\n",
        "model.add(layers.Conv2D(64, (3, 3), activation='relu'))\n",
        "model.add(layers.MaxPool2D((2, 2)))\n",
        "model.add(layers.Conv2D(64, (3, 3), activation='relu'))\n",
        "\n",
        "model.add(layers.Flatten())\n",
        "model.add(layers.Dense(64, activation='relu'))\n",
        "model.add(layers.Dense(10, activation='softmax'))\n",
        "\n",
        "model.summary()"
      ],
      "execution_count": 10,
      "outputs": [
        {
          "output_type": "stream",
          "text": [
            "Model: \"sequential_3\"\n",
            "_________________________________________________________________\n",
            "Layer (type)                 Output Shape              Param #   \n",
            "=================================================================\n",
            "conv2d_6 (Conv2D)            (None, 30, 30, 32)        896       \n",
            "_________________________________________________________________\n",
            "max_pooling2d_4 (MaxPooling2 (None, 15, 15, 32)        0         \n",
            "_________________________________________________________________\n",
            "conv2d_7 (Conv2D)            (None, 13, 13, 64)        18496     \n",
            "_________________________________________________________________\n",
            "max_pooling2d_5 (MaxPooling2 (None, 6, 6, 64)          0         \n",
            "_________________________________________________________________\n",
            "conv2d_8 (Conv2D)            (None, 4, 4, 64)          36928     \n",
            "_________________________________________________________________\n",
            "flatten_2 (Flatten)          (None, 1024)              0         \n",
            "_________________________________________________________________\n",
            "dense_2 (Dense)              (None, 64)                65600     \n",
            "_________________________________________________________________\n",
            "dense_3 (Dense)              (None, 10)                650       \n",
            "=================================================================\n",
            "Total params: 122,570\n",
            "Trainable params: 122,570\n",
            "Non-trainable params: 0\n",
            "_________________________________________________________________\n"
          ],
          "name": "stdout"
        }
      ]
    },
    {
      "cell_type": "code",
      "metadata": {
        "id": "btYTwpz_TweC",
        "colab_type": "code",
        "colab": {}
      },
      "source": [
        "model.compile(optimizer='adam',\n",
        "              loss='sparse_categorical_crossentropy',\n",
        "              metrics=['accuracy'])"
      ],
      "execution_count": 0,
      "outputs": []
    },
    {
      "cell_type": "code",
      "metadata": {
        "id": "_ZXWS7mpT82j",
        "colab_type": "code",
        "colab": {
          "base_uri": "https://localhost:8080/",
          "height": 564
        },
        "outputId": "f52a2e9f-7b6e-4c85-d168-c0a1147359d6"
      },
      "source": [
        "history = model.fit(cifar10x_train,\n",
        "                    cifar10y_train,\n",
        "                    epochs=15,\n",
        "                    validation_data=(cifar10x_test, cifar10y_test))"
      ],
      "execution_count": 12,
      "outputs": [
        {
          "output_type": "stream",
          "text": [
            "Train on 50000 samples, validate on 10000 samples\n",
            "Epoch 1/15\n",
            "50000/50000 [==============================] - 54s 1ms/sample - loss: 1.6950 - accuracy: 0.4108 - val_loss: 1.3390 - val_accuracy: 0.5242\n",
            "Epoch 2/15\n",
            "50000/50000 [==============================] - 53s 1ms/sample - loss: 1.2461 - accuracy: 0.5612 - val_loss: 1.2849 - val_accuracy: 0.5540\n",
            "Epoch 3/15\n",
            "50000/50000 [==============================] - 51s 1ms/sample - loss: 1.0944 - accuracy: 0.6200 - val_loss: 1.0916 - val_accuracy: 0.6259\n",
            "Epoch 4/15\n",
            "50000/50000 [==============================] - 53s 1ms/sample - loss: 0.9994 - accuracy: 0.6525 - val_loss: 1.0464 - val_accuracy: 0.6439\n",
            "Epoch 5/15\n",
            "50000/50000 [==============================] - 54s 1ms/sample - loss: 0.9263 - accuracy: 0.6795 - val_loss: 1.0132 - val_accuracy: 0.6547\n",
            "Epoch 6/15\n",
            "50000/50000 [==============================] - 51s 1ms/sample - loss: 0.8655 - accuracy: 0.6995 - val_loss: 1.0408 - val_accuracy: 0.6532\n",
            "Epoch 7/15\n",
            "50000/50000 [==============================] - 55s 1ms/sample - loss: 0.8187 - accuracy: 0.7176 - val_loss: 1.0082 - val_accuracy: 0.6664\n",
            "Epoch 8/15\n",
            "50000/50000 [==============================] - 53s 1ms/sample - loss: 0.7660 - accuracy: 0.7357 - val_loss: 1.0108 - val_accuracy: 0.6701\n",
            "Epoch 9/15\n",
            "50000/50000 [==============================] - 50s 1ms/sample - loss: 0.7232 - accuracy: 0.7510 - val_loss: 1.0541 - val_accuracy: 0.6802\n",
            "Epoch 10/15\n",
            "50000/50000 [==============================] - 54s 1ms/sample - loss: 0.6858 - accuracy: 0.7613 - val_loss: 0.9985 - val_accuracy: 0.6859\n",
            "Epoch 11/15\n",
            "50000/50000 [==============================] - 52s 1ms/sample - loss: 0.6551 - accuracy: 0.7741 - val_loss: 1.0074 - val_accuracy: 0.6833\n",
            "Epoch 12/15\n",
            "50000/50000 [==============================] - 50s 998us/sample - loss: 0.6216 - accuracy: 0.7820 - val_loss: 1.1055 - val_accuracy: 0.6786\n",
            "Epoch 13/15\n",
            "50000/50000 [==============================] - 54s 1ms/sample - loss: 0.6022 - accuracy: 0.7914 - val_loss: 1.1042 - val_accuracy: 0.6641\n",
            "Epoch 14/15\n",
            "50000/50000 [==============================] - 51s 1ms/sample - loss: 0.5636 - accuracy: 0.8047 - val_loss: 1.1629 - val_accuracy: 0.6747\n",
            "Epoch 15/15\n",
            "50000/50000 [==============================] - 51s 1ms/sample - loss: 0.5515 - accuracy: 0.8081 - val_loss: 1.2047 - val_accuracy: 0.6713\n"
          ],
          "name": "stdout"
        }
      ]
    },
    {
      "cell_type": "code",
      "metadata": {
        "id": "y6IyQvgfXuLN",
        "colab_type": "code",
        "colab": {
          "base_uri": "https://localhost:8080/",
          "height": 34
        },
        "outputId": "c6a50236-f59c-4050-9c50-e4c48b5a5fdc"
      },
      "source": [
        "history_dict = history.history\n",
        "history_dict.keys()"
      ],
      "execution_count": 14,
      "outputs": [
        {
          "output_type": "execute_result",
          "data": {
            "text/plain": [
              "dict_keys(['loss', 'accuracy', 'val_loss', 'val_accuracy'])"
            ]
          },
          "metadata": {
            "tags": []
          },
          "execution_count": 14
        }
      ]
    },
    {
      "cell_type": "code",
      "metadata": {
        "id": "QPg5Da8GXz8q",
        "colab_type": "code",
        "colab": {
          "base_uri": "https://localhost:8080/",
          "height": 545
        },
        "outputId": "e969e778-d56b-4185-ef6f-2193734bf811"
      },
      "source": [
        "import matplotlib.pyplot as plt\n",
        "\n",
        "acc = history_dict['accuracy']\n",
        "val_acc = history_dict['val_accuracy']\n",
        "loss = history_dict['loss']\n",
        "val_loss = history_dict['val_loss']\n",
        "\n",
        "epochs = range(1, len(acc) + 1)\n",
        "\n",
        "plt.plot(epochs, acc, 'bo', label='Training accuracy')\n",
        "plt.plot(epochs, val_acc, 'b', label='Validation accuracy')\n",
        "plt.title('Training and validation accuracy')\n",
        "plt.legend()\n",
        "\n",
        "plt.figure()\n",
        "\n",
        "plt.plot(epochs, loss, 'bo', label='Training loss')\n",
        "plt.plot(epochs, val_loss, 'b', label='Validation loss')\n",
        "plt.title('Training and validation loss')\n",
        "plt.legend()\n",
        "\n",
        "plt.show()"
      ],
      "execution_count": 15,
      "outputs": [
        {
          "output_type": "display_data",
          "data": {
            "image/png": "[encoded data removed]",
            "text/plain": [
              "<Figure size 432x288 with 1 Axes>"
            ]
          },
          "metadata": {
            "tags": []
          }
        },
        {
          "output_type": "display_data",
          "data": {
            "image/png": "[encoded data removed]",
            "text/plain": [
              "<Figure size 432x288 with 1 Axes>"
            ]
          },
          "metadata": {
            "tags": []
          }
        }
      ]
    }
  ]
}